{
 "cells": [
  {
   "cell_type": "markdown",
   "metadata": {},
   "source": [
    "# Automated Python to MySQL Database Handler"
   ]
  },
  {
   "cell_type": "markdown",
   "metadata": {},
   "source": [
    "Importing Libraries:"
   ]
  },
  {
   "cell_type": "code",
   "execution_count": null,
   "metadata": {},
   "outputs": [],
   "source": [
    "import mysql.connector as connection\n",
    "import getpass\n",
    "import csv\n",
    "import os"
   ]
  },
  {
   "cell_type": "markdown",
   "metadata": {},
   "source": [
    "Asking User Input"
   ]
  },
  {
   "cell_type": "code",
   "execution_count": null,
   "metadata": {},
   "outputs": [],
   "source": [
    "print('Please enter details to connect to MySQL Database:')\n",
    "hst = input(\"Enter Host: \")\n",
    "usr = input(\"Enter user: \")\n",
    "pwd = getpass.getpass(\"Enter Password: \")\n",
    "Db = input(\"Enter Database name: \")"
   ]
  },
  {
   "cell_type": "markdown",
   "metadata": {},
   "source": [
    "Building Connections with the server."
   ]
  },
  {
   "cell_type": "code",
   "execution_count": null,
   "metadata": {},
   "outputs": [],
   "source": [
    "mydb = connection.connect(host=hst,user=usr,passwd = pwd, database = Db,use_pure=True)"
   ]
  },
  {
   "cell_type": "markdown",
   "metadata": {},
   "source": [
    "Checking connection status."
   ]
  },
  {
   "cell_type": "code",
   "execution_count": null,
   "metadata": {},
   "outputs": [],
   "source": [
    "mydb.is_connected()\n",
    "if True:\n",
    "    print('Connection Established Successfully.')\n",
    "else:\n",
    "    print('Connection Error. Please check your credientials and try again.')"
   ]
  },
  {
   "cell_type": "markdown",
   "metadata": {},
   "source": [
    "Setting Cursor and Deleting already existing Carbon Nanotubes table"
   ]
  },
  {
   "cell_type": "code",
   "execution_count": null,
   "metadata": {},
   "outputs": [],
   "source": [
    "cur = mydb.cursor()\n",
    "cur.execute('DROP TABLE IF EXISTS carbon_nanotubes')"
   ]
  },
  {
   "cell_type": "markdown",
   "metadata": {},
   "source": [
    "Creating a Fresh Table carbon nanotubes"
   ]
  },
  {
   "cell_type": "code",
   "execution_count": null,
   "metadata": {},
   "outputs": [],
   "source": [
    "cur.execute(\"create table Carbon_Nanotubes(Chiral_indice_m_n varchar(20), Initial_atomic_coordinate_u varchar(20), Initial_atomic_coordinate_v varchar(20), Initial_atomic_coordinate_w varchar(20), Calculated_atomic_coordinates_u varchar(20), Calculated_atomic_coordinates_v varchar(20), Calculated_atomic_coordinates_w varchar(20))\")"
   ]
  },
  {
   "cell_type": "markdown",
   "metadata": {},
   "source": [
    "Executing Data Transfer Process"
   ]
  },
  {
   "cell_type": "code",
   "execution_count": null,
   "metadata": {},
   "outputs": [],
   "source": [
    "print(\"Please enter the path to the file \\carbon_nanotubes.csv:\\n\\n\")\n",
    "path = input()\n",
    "npath = os.path.normcase(path)\n",
    "with open(npath+'\\\\carbon_nanotubes.csv','r') as cvfiles:\n",
    "    cvf = csv.reader(cvfiles, delimiter=',')\n",
    "    next(cvf)\n",
    "    try:\n",
    "        for row in cvf:\n",
    "            cur.execute('INSERT INTO carbon_nanotubes Values (%s,%s,%s,%s,%s,%s,%s)',\n",
    "                        [row[0], row[1], row[2], row[3], row[4], row[5], row[6]])\n",
    "            mydb.commit()\n",
    "        print('Data Transferred Successfully.')\n",
    "    except:\n",
    "        print('Data Transfer Error! Could not fetch the data properly.')"
   ]
  },
  {
   "cell_type": "markdown",
   "metadata": {},
   "source": [
    "Thanks for using the Program"
   ]
  }
 ],
 "metadata": {
  "kernelspec": {
   "display_name": "Python 3",
   "language": "python",
   "name": "python3"
  },
  "language_info": {
   "codemirror_mode": {
    "name": "ipython",
    "version": 3
   },
   "file_extension": ".py",
   "mimetype": "text/x-python",
   "name": "python",
   "nbconvert_exporter": "python",
   "pygments_lexer": "ipython3",
   "version": "3.8.5"
  }
 },
 "nbformat": 4,
 "nbformat_minor": 4
}
